{
 "cells": [
  {
   "cell_type": "code",
   "execution_count": 503,
   "id": "30fc31fd",
   "metadata": {
    "pycharm": {
     "name": "#%%\n"
    }
   },
   "outputs": [
    {
     "name": "stdout",
     "output_type": "stream",
     "text": [
      "Requirement already satisfied: matplotlib in /opt/anaconda3/lib/python3.7/site-packages (3.5.0)\r\n",
      "Requirement already satisfied: python-dateutil>=2.7 in /opt/anaconda3/lib/python3.7/site-packages (from matplotlib) (2.8.2)\r\n",
      "Requirement already satisfied: pillow>=6.2.0 in /opt/anaconda3/lib/python3.7/site-packages (from matplotlib) (8.4.0)\r\n",
      "Requirement already satisfied: pyparsing>=2.2.1 in /opt/anaconda3/lib/python3.7/site-packages (from matplotlib) (3.0.4)\r\n",
      "Requirement already satisfied: numpy>=1.17 in /opt/anaconda3/lib/python3.7/site-packages (from matplotlib) (1.21.2)\r\n",
      "Requirement already satisfied: fonttools>=4.22.0 in /opt/anaconda3/lib/python3.7/site-packages (from matplotlib) (4.25.0)\r\n",
      "Requirement already satisfied: cycler>=0.10 in /opt/anaconda3/lib/python3.7/site-packages (from matplotlib) (0.11.0)\r\n",
      "Requirement already satisfied: packaging>=20.0 in /opt/anaconda3/lib/python3.7/site-packages (from matplotlib) (21.3)\r\n",
      "Requirement already satisfied: kiwisolver>=1.0.1 in /opt/anaconda3/lib/python3.7/site-packages (from matplotlib) (1.3.1)\r\n",
      "Requirement already satisfied: six>=1.5 in /opt/anaconda3/lib/python3.7/site-packages (from python-dateutil>=2.7->matplotlib) (1.16.0)\r\n"
     ]
    }
   ],
   "source": [
    "!pip install matplotlib"
   ]
  },
  {
   "cell_type": "code",
   "execution_count": 504,
   "id": "8c6ba8d3",
   "metadata": {
    "pycharm": {
     "name": "#%%\n"
    }
   },
   "outputs": [],
   "source": [
    "import pandas as pd\n",
    "from nltk.tokenize import word_tokenize\n",
    "import string\n",
    "import re\n",
    "from nltk.stem import PorterStemmer\n",
    "from nltk.corpus import stopwords\n",
    "from sklearn.feature_extraction.text import CountVectorizer, TfidfVectorizer\n",
    "from sklearn.model_selection import train_test_split\n",
    "from sklearn.naive_bayes import MultinomialNB\n",
    "from sklearn.linear_model import LogisticRegression\n",
    "from sklearn.metrics import classification_report\n",
    "from sklearn.preprocessing import LabelEncoder"
   ]
  },
  {
   "cell_type": "code",
   "execution_count": 505,
   "id": "abfb0612",
   "metadata": {
    "pycharm": {
     "name": "#%%\n"
    }
   },
   "outputs": [],
   "source": [
    "df = pd.read_csv('spam.csv')"
   ]
  },
  {
   "cell_type": "code",
   "execution_count": 506,
   "id": "4148d2cd",
   "metadata": {
    "pycharm": {
     "name": "#%%\n"
    }
   },
   "outputs": [
    {
     "data": {
      "text/plain": "     v1                                                 v2 Unnamed: 2  \\\n0   ham  Go until jurong point, crazy.. Available only ...        NaN   \n1   ham                      Ok lar... Joking wif u oni...        NaN   \n2  spam  Free entry in 2 a wkly comp to win FA Cup fina...        NaN   \n3   ham  U dun say so early hor... U c already then say...        NaN   \n4   ham  Nah I don't think he goes to usf, he lives aro...        NaN   \n\n  Unnamed: 3 Unnamed: 4  \n0        NaN        NaN  \n1        NaN        NaN  \n2        NaN        NaN  \n3        NaN        NaN  \n4        NaN        NaN  ",
      "text/html": "<div>\n<style scoped>\n    .dataframe tbody tr th:only-of-type {\n        vertical-align: middle;\n    }\n\n    .dataframe tbody tr th {\n        vertical-align: top;\n    }\n\n    .dataframe thead th {\n        text-align: right;\n    }\n</style>\n<table border=\"1\" class=\"dataframe\">\n  <thead>\n    <tr style=\"text-align: right;\">\n      <th></th>\n      <th>v1</th>\n      <th>v2</th>\n      <th>Unnamed: 2</th>\n      <th>Unnamed: 3</th>\n      <th>Unnamed: 4</th>\n    </tr>\n  </thead>\n  <tbody>\n    <tr>\n      <th>0</th>\n      <td>ham</td>\n      <td>Go until jurong point, crazy.. Available only ...</td>\n      <td>NaN</td>\n      <td>NaN</td>\n      <td>NaN</td>\n    </tr>\n    <tr>\n      <th>1</th>\n      <td>ham</td>\n      <td>Ok lar... Joking wif u oni...</td>\n      <td>NaN</td>\n      <td>NaN</td>\n      <td>NaN</td>\n    </tr>\n    <tr>\n      <th>2</th>\n      <td>spam</td>\n      <td>Free entry in 2 a wkly comp to win FA Cup fina...</td>\n      <td>NaN</td>\n      <td>NaN</td>\n      <td>NaN</td>\n    </tr>\n    <tr>\n      <th>3</th>\n      <td>ham</td>\n      <td>U dun say so early hor... U c already then say...</td>\n      <td>NaN</td>\n      <td>NaN</td>\n      <td>NaN</td>\n    </tr>\n    <tr>\n      <th>4</th>\n      <td>ham</td>\n      <td>Nah I don't think he goes to usf, he lives aro...</td>\n      <td>NaN</td>\n      <td>NaN</td>\n      <td>NaN</td>\n    </tr>\n  </tbody>\n</table>\n</div>"
     },
     "execution_count": 506,
     "metadata": {},
     "output_type": "execute_result"
    }
   ],
   "source": [
    "df.head()"
   ]
  },
  {
   "cell_type": "code",
   "execution_count": 507,
   "id": "d9284120",
   "metadata": {
    "pycharm": {
     "name": "#%%\n"
    }
   },
   "outputs": [],
   "source": [
    "df.dropna(axis=1, inplace=True)"
   ]
  },
  {
   "cell_type": "code",
   "execution_count": 508,
   "id": "6f87f179",
   "metadata": {
    "pycharm": {
     "name": "#%%\n"
    }
   },
   "outputs": [
    {
     "name": "stdout",
     "output_type": "stream",
     "text": [
      "<class 'pandas.core.frame.DataFrame'>\n",
      "RangeIndex: 5572 entries, 0 to 5571\n",
      "Data columns (total 2 columns):\n",
      " #   Column  Non-Null Count  Dtype \n",
      "---  ------  --------------  ----- \n",
      " 0   v1      5572 non-null   object\n",
      " 1   v2      5572 non-null   object\n",
      "dtypes: object(2)\n",
      "memory usage: 87.2+ KB\n"
     ]
    }
   ],
   "source": [
    "df.info()"
   ]
  },
  {
   "cell_type": "code",
   "execution_count": 509,
   "id": "2bd8aa95",
   "metadata": {
    "pycharm": {
     "name": "#%%\n"
    }
   },
   "outputs": [],
   "source": [
    "df.rename(columns={'v1': 'target', 'v2': 'text'}, inplace=True)"
   ]
  },
  {
   "cell_type": "code",
   "execution_count": 510,
   "id": "f432dbb7",
   "metadata": {
    "pycharm": {
     "name": "#%%\n"
    }
   },
   "outputs": [
    {
     "data": {
      "text/plain": "       target                    text\ncount    5572                    5572\nunique      2                    5158\ntop       ham  Sorry, I'll call later\nfreq     4825                      30",
      "text/html": "<div>\n<style scoped>\n    .dataframe tbody tr th:only-of-type {\n        vertical-align: middle;\n    }\n\n    .dataframe tbody tr th {\n        vertical-align: top;\n    }\n\n    .dataframe thead th {\n        text-align: right;\n    }\n</style>\n<table border=\"1\" class=\"dataframe\">\n  <thead>\n    <tr style=\"text-align: right;\">\n      <th></th>\n      <th>target</th>\n      <th>text</th>\n    </tr>\n  </thead>\n  <tbody>\n    <tr>\n      <th>count</th>\n      <td>5572</td>\n      <td>5572</td>\n    </tr>\n    <tr>\n      <th>unique</th>\n      <td>2</td>\n      <td>5158</td>\n    </tr>\n    <tr>\n      <th>top</th>\n      <td>ham</td>\n      <td>Sorry, I'll call later</td>\n    </tr>\n    <tr>\n      <th>freq</th>\n      <td>4825</td>\n      <td>30</td>\n    </tr>\n  </tbody>\n</table>\n</div>"
     },
     "execution_count": 510,
     "metadata": {},
     "output_type": "execute_result"
    }
   ],
   "source": [
    "df.describe()"
   ]
  },
  {
   "cell_type": "code",
   "execution_count": 511,
   "outputs": [
    {
     "data": {
      "text/plain": "414"
     },
     "execution_count": 511,
     "metadata": {},
     "output_type": "execute_result"
    }
   ],
   "source": [
    "df.duplicated().sum()"
   ],
   "metadata": {
    "collapsed": false,
    "pycharm": {
     "name": "#%%\n"
    }
   }
  },
  {
   "cell_type": "code",
   "execution_count": 512,
   "outputs": [],
   "source": [
    "df.drop_duplicates(inplace=True)"
   ],
   "metadata": {
    "collapsed": false,
    "pycharm": {
     "name": "#%%\n"
    }
   }
  },
  {
   "cell_type": "code",
   "execution_count": 513,
   "outputs": [
    {
     "data": {
      "text/plain": "       target                                               text\ncount    5158                                               5158\nunique      2                                               5158\ntop       ham  Go until jurong point, crazy.. Available only ...\nfreq     4516                                                  1",
      "text/html": "<div>\n<style scoped>\n    .dataframe tbody tr th:only-of-type {\n        vertical-align: middle;\n    }\n\n    .dataframe tbody tr th {\n        vertical-align: top;\n    }\n\n    .dataframe thead th {\n        text-align: right;\n    }\n</style>\n<table border=\"1\" class=\"dataframe\">\n  <thead>\n    <tr style=\"text-align: right;\">\n      <th></th>\n      <th>target</th>\n      <th>text</th>\n    </tr>\n  </thead>\n  <tbody>\n    <tr>\n      <th>count</th>\n      <td>5158</td>\n      <td>5158</td>\n    </tr>\n    <tr>\n      <th>unique</th>\n      <td>2</td>\n      <td>5158</td>\n    </tr>\n    <tr>\n      <th>top</th>\n      <td>ham</td>\n      <td>Go until jurong point, crazy.. Available only ...</td>\n    </tr>\n    <tr>\n      <th>freq</th>\n      <td>4516</td>\n      <td>1</td>\n    </tr>\n  </tbody>\n</table>\n</div>"
     },
     "execution_count": 513,
     "metadata": {},
     "output_type": "execute_result"
    }
   ],
   "source": [
    "df.describe()"
   ],
   "metadata": {
    "collapsed": false,
    "pycharm": {
     "name": "#%%\n"
    }
   }
  },
  {
   "cell_type": "code",
   "execution_count": 514,
   "outputs": [
    {
     "data": {
      "text/plain": "(5158, 2)"
     },
     "execution_count": 514,
     "metadata": {},
     "output_type": "execute_result"
    }
   ],
   "source": [
    "df.shape"
   ],
   "metadata": {
    "collapsed": false,
    "pycharm": {
     "name": "#%%\n"
    }
   }
  },
  {
   "cell_type": "code",
   "execution_count": 515,
   "id": "7a883c86",
   "metadata": {
    "pycharm": {
     "name": "#%%\n"
    }
   },
   "outputs": [
    {
     "data": {
      "text/plain": "<AxesSubplot:>"
     },
     "execution_count": 515,
     "metadata": {},
     "output_type": "execute_result"
    },
    {
     "data": {
      "text/plain": "<Figure size 432x288 with 1 Axes>",
      "image/png": "[encoded data removed]"
     },
     "metadata": {
      "needs_background": "light"
     },
     "output_type": "display_data"
    }
   ],
   "source": [
    "df['target'].value_counts().plot(kind='bar')"
   ]
  },
  {
   "cell_type": "code",
   "execution_count": 516,
   "id": "c60c53f8",
   "metadata": {
    "pycharm": {
     "name": "#%%\n"
    }
   },
   "outputs": [],
   "source": [
    "def preprocess_text(text):\n",
    "    text = text.strip().lower()\n",
    "    text = re.sub(r'http[s]?://(?:[a-zA-Z]|[0-9]|[$-_@.&+]|[!*\\(\\),]|(?:%[0-9a-fA-F][0-9a-fA-F]))+', ' ', text)\n",
    "    text = re.sub(r'\\s\\s+', ' ', text)\n",
    "    text_tokens = word_tokenize(text)\n",
    "    text_tokens = [text_token for text_token in text_tokens if text_token.isalpha()]\n",
    "    text_tokens = [text_token.translate(str.maketrans('', '', string.punctuation)) for text_token in text_tokens]\n",
    "    stemmer = PorterStemmer()\n",
    "    text_tokens = [stemmer.stem(text_token) for text_token in text_tokens if not text_token in set(stopwords.words('english'))]\n",
    "    text = ' '.join(text_tokens)\n",
    "    return text"
   ]
  },
  {
   "cell_type": "code",
   "execution_count": 517,
   "id": "a0998911",
   "metadata": {
    "pycharm": {
     "name": "#%%\n"
    }
   },
   "outputs": [],
   "source": [
    "df['clean_text'] = df['text'].apply(preprocess_text)"
   ]
  },
  {
   "cell_type": "code",
   "execution_count": 518,
   "outputs": [
    {
     "data": {
      "text/plain": "  target                                               text  \\\n0    ham  Go until jurong point, crazy.. Available only ...   \n1    ham                      Ok lar... Joking wif u oni...   \n2   spam  Free entry in 2 a wkly comp to win FA Cup fina...   \n3    ham  U dun say so early hor... U c already then say...   \n4    ham  Nah I don't think he goes to usf, he lives aro...   \n\n                                          clean_text  \n0  go jurong point crazi avail bugi n great world...  \n1                              ok lar joke wif u oni  \n2  free entri wkli comp win fa cup final tkt may ...  \n3                u dun say earli hor u c alreadi say  \n4               nah think goe usf live around though  ",
      "text/html": "<div>\n<style scoped>\n    .dataframe tbody tr th:only-of-type {\n        vertical-align: middle;\n    }\n\n    .dataframe tbody tr th {\n        vertical-align: top;\n    }\n\n    .dataframe thead th {\n        text-align: right;\n    }\n</style>\n<table border=\"1\" class=\"dataframe\">\n  <thead>\n    <tr style=\"text-align: right;\">\n      <th></th>\n      <th>target</th>\n      <th>text</th>\n      <th>clean_text</th>\n    </tr>\n  </thead>\n  <tbody>\n    <tr>\n      <th>0</th>\n      <td>ham</td>\n      <td>Go until jurong point, crazy.. Available only ...</td>\n      <td>go jurong point crazi avail bugi n great world...</td>\n    </tr>\n    <tr>\n      <th>1</th>\n      <td>ham</td>\n      <td>Ok lar... Joking wif u oni...</td>\n      <td>ok lar joke wif u oni</td>\n    </tr>\n    <tr>\n      <th>2</th>\n      <td>spam</td>\n      <td>Free entry in 2 a wkly comp to win FA Cup fina...</td>\n      <td>free entri wkli comp win fa cup final tkt may ...</td>\n    </tr>\n    <tr>\n      <th>3</th>\n      <td>ham</td>\n      <td>U dun say so early hor... U c already then say...</td>\n      <td>u dun say earli hor u c alreadi say</td>\n    </tr>\n    <tr>\n      <th>4</th>\n      <td>ham</td>\n      <td>Nah I don't think he goes to usf, he lives aro...</td>\n      <td>nah think goe usf live around though</td>\n    </tr>\n  </tbody>\n</table>\n</div>"
     },
     "execution_count": 518,
     "metadata": {},
     "output_type": "execute_result"
    }
   ],
   "source": [
    "df.head()"
   ],
   "metadata": {
    "collapsed": false,
    "pycharm": {
     "name": "#%%\n"
    }
   }
  },
  {
   "cell_type": "code",
   "execution_count": 519,
   "outputs": [
    {
     "data": {
      "text/plain": "{'go': 2050,\n 'jurong': 2662,\n 'point': 3809,\n 'crazi': 1113,\n 'avail': 359,\n 'bugi': 701,\n 'great': 2117,\n 'world': 5700,\n 'la': 2758,\n 'buffet': 699,\n 'cine': 921,\n 'got': 2086,\n 'amor': 179,\n 'wat': 5539,\n 'ok': 3508,\n 'lar': 2786,\n 'joke': 2633,\n 'wif': 5629,\n 'oni': 3531,\n 'free': 1903,\n 'entri': 1589,\n 'wkli': 5668,\n 'comp': 1004,\n 'win': 5639,\n 'fa': 1697,\n 'cup': 1159,\n 'final': 1790,\n 'tkt': 5154,\n 'may': 3075,\n 'text': 5050,\n 'receiv': 4094,\n 'question': 4015,\n 'std': 4779,\n 'txt': 5301,\n 'rate': 4058,\n 'appli': 248,\n 'dun': 1475,\n 'say': 4327,\n 'earli': 1490,\n 'hor': 2335,\n 'alreadi': 157,\n 'nah': 3301,\n 'think': 5092,\n 'goe': 2054,\n 'usf': 5407,\n 'live': 2886,\n 'around': 285,\n 'though': 5107,\n 'freemsg': 1909,\n 'hey': 2272,\n 'darl': 1203,\n 'week': 5566,\n 'word': 5694,\n 'back': 393,\n 'like': 2858,\n 'fun': 1949,\n 'still': 4800,\n 'tb': 5005,\n 'xxx': 5753,\n 'chg': 880,\n 'send': 4394,\n 'rcv': 4068,\n 'even': 1632,\n 'brother': 675,\n 'speak': 4691,\n 'treat': 5247,\n 'aid': 115,\n 'patent': 3672,\n 'per': 3704,\n 'request': 4163,\n 'mell': 3103,\n 'oru': 3574,\n 'minnaminungint': 3153,\n 'nurungu': 3460,\n 'vettam': 5449,\n 'set': 4413,\n 'callertun': 754,\n 'caller': 753,\n 'press': 3897,\n 'copi': 1071,\n 'friend': 1921,\n 'winner': 5645,\n 'valu': 5424,\n 'network': 3362,\n 'custom': 1169,\n 'select': 4383,\n 'receivea': 4095,\n 'prize': 3925,\n 'reward': 4197,\n 'claim': 928,\n 'call': 749,\n 'code': 974,\n 'valid': 5423,\n 'hour': 2348,\n 'mobil': 3197,\n 'month': 3222,\n 'entitl': 1587,\n 'updat': 5382,\n 'latest': 2798,\n 'colour': 989,\n 'camera': 762,\n 'co': 964,\n 'gon': 2064,\n 'na': 3296,\n 'home': 2317,\n 'soon': 4656,\n 'want': 5527,\n 'talk': 4978,\n 'stuff': 4850,\n 'anymor': 221,\n 'tonight': 5193,\n 'cri': 1124,\n 'enough': 1581,\n 'today': 5167,\n 'six': 4546,\n 'chanc': 839,\n 'cash': 801,\n 'pound': 3854,\n 'cost': 1081,\n 'tsandc': 5273,\n 'repli': 4158,\n 'hl': 2293,\n 'info': 2481,\n 'urgent': 5393,\n 'membership': 3108,\n 'jackpot': 2573,\n 'lccltd': 2809,\n 'pobox': 3801,\n 'search': 4362,\n 'right': 4207,\n 'thank': 5062,\n 'breather': 649,\n 'promis': 3950,\n 'wont': 5685,\n 'take': 4973,\n 'help': 2261,\n 'grant': 2106,\n 'fulfil': 1946,\n 'wonder': 5684,\n 'bless': 562,\n 'time': 5140,\n 'date': 1210,\n 'sunday': 4889,\n 'xxxmobilemovieclub': 5754,\n 'use': 5404,\n 'credit': 1121,\n 'click': 945,\n 'wap': 5528,\n 'link': 2871,\n 'next': 3374,\n 'messag': 3122,\n 'oh': 3503,\n 'watch': 5540,\n 'eh': 1529,\n 'rememb': 4144,\n 'spell': 4701,\n 'name': 3307,\n 'ye': 5776,\n 'naughti': 3325,\n 'make': 3017,\n 'wet': 5596,\n 'fine': 1795,\n 'thatåõ': 5070,\n 'way': 5549,\n 'feel': 1757,\n 'gota': 2087,\n 'england': 1574,\n 'macedonia': 2989,\n 'dont': 1406,\n 'miss': 3165,\n 'news': 3371,\n 'ur': 5390,\n 'nation': 3320,\n 'team': 5011,\n 'eg': 1525,\n 'tri': 5253,\n 'wale': 5513,\n 'scotland': 4346,\n 'serious': 4409,\n 'ha': 2167,\n 'pay': 3681,\n 'first': 1807,\n 'da': 1182,\n 'stock': 4803,\n 'comin': 996,\n 'aft': 94,\n 'finish': 1798,\n 'lunch': 2970,\n 'str': 4818,\n 'lor': 2925,\n 'ard': 267,\n 'smth': 4605,\n 'ffffffffff': 1770,\n 'alright': 158,\n 'meet': 3096,\n 'sooner': 4657,\n 'forc': 1866,\n 'eat': 1502,\n 'slice': 4571,\n 'realli': 4083,\n 'hungri': 2380,\n 'tho': 5104,\n 'suck': 4867,\n 'mark': 3048,\n 'get': 2012,\n 'worri': 5702,\n 'know': 2737,\n 'sick': 4509,\n 'turn': 5288,\n 'pizza': 3769,\n 'lol': 2906,\n 'alway': 164,\n 'convinc': 1063,\n 'catch': 807,\n 'bu': 692,\n 'fri': 1918,\n 'egg': 1527,\n 'tea': 5008,\n 'mom': 3210,\n 'left': 2820,\n 'dinner': 1335,\n 'love': 2943,\n 'amp': 181,\n 'pack': 3617,\n 'car': 782,\n 'let': 2837,\n 'room': 4237,\n 'ahhh': 110,\n 'work': 5695,\n 'vagu': 5420,\n 'wait': 5510,\n 'clear': 941,\n 'sure': 4911,\n 'sarcast': 4311,\n 'us': 5401,\n 'yeah': 5777,\n 'apologet': 239,\n 'fallen': 1718,\n 'actin': 52,\n 'spoilt': 4724,\n 'child': 887,\n 'caught': 809,\n 'till': 5138,\n 'wo': 5675,\n 'badli': 398,\n 'cheer': 866,\n 'tell': 5024,\n 'anyth': 224,\n 'fear': 1748,\n 'faint': 1710,\n 'housework': 2352,\n 'quick': 4016,\n 'cuppa': 1161,\n 'subscript': 4862,\n 'rington': 4213,\n 'uk': 5323,\n 'charg': 846,\n 'pleas': 3784,\n 'confirm': 1036,\n 'yup': 5825,\n 'look': 2917,\n 'msg': 3250,\n 'xuhui': 5749,\n 'learn': 2815,\n 'lesson': 2836,\n 'oop': 3543,\n 'roommat': 4239,\n 'done': 1404,\n 'see': 4374,\n 'letter': 2838,\n 'decid': 1229,\n 'hello': 2258,\n 'saturday': 4322,\n 'tomo': 5184,\n 'invit': 2527,\n 'pl': 3770,\n 'ahead': 109,\n 'watt': 5547,\n 'weekend': 5568,\n 'abiola': 13,\n 'forget': 1872,\n 'need': 3344,\n 'crave': 1112,\n 'sweet': 4937,\n 'arabian': 264,\n 'steed': 4785,\n 'mmmmmm': 3187,\n 'yummi': 5819,\n 'rodger': 4228,\n 'burn': 715,\n 'sm': 4585,\n 'nokia': 3412,\n 'camcord': 760,\n 'deliveri': 1257,\n 'tomorrow': 5186,\n 'hope': 2333,\n 'man': 3025,\n 'well': 5579,\n 'endow': 1567,\n 'lt': 2957,\n 'gt': 2141,\n 'inch': 2457,\n 'hep': 2267,\n 'immunis': 2444,\n 'nigeria': 3383,\n 'fair': 1711,\n 'tyler': 5309,\n 'ca': 737,\n 'could': 1085,\n 'mayb': 3076,\n 'ask': 306,\n 'bit': 547,\n 'stubborn': 4841,\n 'hospit': 2341,\n 'kept': 2699,\n 'weak': 5550,\n 'sucker': 4868,\n 'saw': 4326,\n 'class': 935,\n 'gram': 2101,\n 'usual': 5411,\n 'run': 4266,\n 'half': 2181,\n 'eighth': 1531,\n 'smarter': 4591,\n 'almost': 153,\n 'whole': 5620,\n 'second': 4366,\n 'fyi': 1962,\n 'ride': 4206,\n 'morn': 3229,\n 'crash': 1111,\n 'place': 3771,\n 'wow': 5714,\n 'never': 3364,\n 'realiz': 4082,\n 'embarass': 1553,\n 'accomod': 38,\n 'thought': 5108,\n 'sinc': 4528,\n 'best': 509,\n 'seem': 4378,\n 'happi': 2202,\n 'sorri': 4665,\n 'give': 2034,\n 'offer': 3494,\n 'ac': 27,\n 'sptv': 4743,\n 'new': 3367,\n 'jersey': 2612,\n 'devil': 1296,\n 'detroit': 1292,\n 'red': 4109,\n 'wing': 5644,\n 'play': 3779,\n 'ice': 2409,\n 'hockey': 2304,\n 'correct': 1076,\n 'incorrect': 2465,\n 'end': 1565,\n 'mallika': 3024,\n 'sherawat': 4453,\n 'yesterday': 5789,\n 'find': 1794,\n 'url': 5398,\n 'congrat': 1040,\n 'year': 5778,\n 'special': 4693,\n 'cinema': 922,\n 'pass': 3665,\n 'suprman': 4909,\n 'etc': 1623,\n 'later': 2797,\n 'reach': 4072,\n 'gauti': 1985,\n 'sehwag': 4382,\n 'odi': 3489,\n 'seri': 4407,\n 'pick': 3749,\n 'burger': 712,\n 'move': 3242,\n 'pain': 3622,\n 'kill': 2717,\n 'good': 2069,\n 'girl': 2029,\n 'situat': 4544,\n 'seeker': 4377,\n 'part': 3656,\n 'check': 861,\n 'iq': 2537,\n 'took': 5195,\n 'forev': 1869,\n 'come': 993,\n 'doubl': 1418,\n 'hair': 2176,\n 'dresser': 1441,\n 'said': 4286,\n 'wun': 5738,\n 'cut': 1172,\n 'short': 4482,\n 'nice': 3377,\n 'advis': 80,\n 'follow': 1854,\n 'recent': 4096,\n 'review': 4195,\n 'mob': 3194,\n 'award': 373,\n 'bonu': 596,\n 'dedic': 1235,\n 'day': 1213,\n 'song': 4652,\n 'valuabl': 5425,\n 'frnd': 1926,\n 'rpli': 4248,\n 'complimentari': 1018,\n 'trip': 5255,\n 'eurodisinc': 1627,\n 'trav': 5242,\n 'aco': 49,\n 'di': 1304,\n 'morefrmmob': 3228,\n 'shracomorsglsuplt': 4496,\n 'hear': 2241,\n 'ken': 2697,\n 'plane': 3775,\n 'wah': 5504,\n 'lucki': 2964,\n 'save': 4325,\n 'money': 3215,\n 'hee': 2251,\n 'hi': 2275,\n 'babe': 387,\n 'im': 2436,\n 'wan': 5524,\n 'someth': 4640,\n 'xx': 5750,\n 'perform': 3709,\n 'machan': 2991,\n 'that': 5068,\n 'cool': 1066,\n 'gentleman': 2003,\n 'digniti': 1328,\n 'respect': 4176,\n 'peopl': 3703,\n 'much': 3259,\n 'shi': 4456,\n 'pa': 3615,\n 'oper': 3546,\n 'job': 2627,\n 'ta': 4960,\n 'earn': 1493,\n 'ah': 107,\n 'stop': 4811,\n 'urgnt': 5395,\n 'real': 4078,\n 'yo': 5799,\n 'ticket': 5129,\n 'one': 3530,\n 'jacket': 2572,\n 'multi': 3266,\n 'start': 4770,\n 'came': 761,\n 'bed': 473,\n 'coin': 978,\n 'factori': 1704,\n 'nitro': 3398,\n 'ela': 1536,\n 'il': 2432,\n 'download': 1425,\n 'wen': 5582,\n 'stand': 4763,\n 'close': 949,\n 'anoth': 209,\n 'night': 3385,\n 'spent': 4703,\n 'late': 2795,\n 'afternoon': 96,\n 'casualti': 805,\n 'mean': 3083,\n 'includ': 2460,\n 'sheet': 4448,\n 'smile': 4597,\n 'pleasur': 3787,\n 'troubl': 5260,\n 'pour': 3855,\n 'rain': 4035,\n 'hurt': 2386,\n 'becoz': 471,\n 'someon': 4635,\n 'servic': 4412,\n 'repres': 4161,\n 'guarante': 2144,\n 'havent': 2224,\n 'plan': 3774,\n 'buy': 726,\n 'lido': 2846,\n 'show': 4492,\n 'collect': 986,\n 'simpli': 4525,\n 'password': 3669,\n 'verifi': 5446,\n 'usher': 5408,\n 'britney': 666,\n 'fml': 1848,\n 'telugu': 5028,\n 'movi': 3243,\n 'abt': 23,\n 'load': 2893,\n 'loan': 2894,\n 'wk': 5665,\n 'hol': 2308,\n 'forgot': 1875,\n 'hairdress': 2178,\n 'appoint': 250,\n 'four': 1886,\n 'shower': 4493,\n 'beforehand': 482,\n 'caus': 810,\n 'prob': 3929,\n 'ham': 2186,\n 'noth': 3435,\n 'els': 1548,\n 'okay': 3509,\n 'price': 3910,\n 'long': 2913,\n 'legal': 2823,\n 'ave': 364,\n 'am': 166,\n 'gone': 2066,\n 'drive': 1445,\n 'test': 5046,\n 'yet': 5790,\n 'guess': 2149,\n 'gave': 1986,\n 'boston': 613,\n 'men': 3111,\n 'chang': 840,\n 'locat': 2897,\n 'nyc': 3469,\n 'cuz': 1178,\n 'signin': 4516,\n 'page': 3619,\n 'umma': 5328,\n 'life': 2848,\n 'vava': 5434,\n 'lot': 2931,\n 'dear': 1221,\n 'wish': 5651,\n 'birthday': 545,\n 'truli': 5267,\n 'memor': 3109,\n 'aight': 117,\n 'hit': 2288,\n 'would': 5711,\n 'ip': 2532,\n 'address': 63,\n 'consid': 1046,\n 'comput': 1022,\n 'minecraft': 3150,\n 'server': 4411,\n 'grumpi': 2138,\n 'old': 3520,\n 'better': 514,\n 'lie': 2847,\n 'busi': 720,\n 'plural': 3795,\n 'noun': 3442,\n 'research': 4165,\n 'thing': 5091,\n 'scare': 4334,\n 'mah': 3009,\n 'loud': 2938,\n 'gent': 2001,\n 'contact': 1051,\n 'last': 2793,\n 'draw': 1436,\n 'wa': 5501,\n 'openin': 3545,\n 'sentenc': 4401,\n 'formal': 1879,\n 'anyway': 229,\n 'juz': 2666,\n 'tt': 5276,\n 'eatin': 1504,\n 'puttin': 4001,\n 'weight': 5571,\n 'haha': 2172,\n 'anythin': 226,\n 'happen': 2199,\n 'enter': 1583,\n 'cabin': 739,\n 'boss': 612,\n 'felt': 1763,\n 'askd': 307,\n 'apart': 232,\n 'went': 5585,\n 'holiday': 2314,\n 'flight': 1830,\n 'inc': 2456,\n 'goodo': 2078,\n 'must': 3281,\n 'friday': 1919,\n 'ratio': 4060,\n 'tortilla': 5209,\n 'hmm': 2298,\n 'uncl': 5335,\n 'inform': 2482,\n 'school': 4340,\n 'directli': 1341,\n 'food': 1859,\n 'privat': 3922,\n 'account': 41,\n 'statement': 4774,\n 'unredeem': 5373,\n 'identifi': 2418,\n 'expir': 1682,\n 'landlin': 2775,\n 'pair': 3624,\n 'malarki': 3021,\n 'voda': 5486,\n 'number': 3457,\n 'match': 3062,\n 'quot': 4024,\n 'standard': 4764,\n 'app': 241,\n 'sao': 4305,\n 'mu': 3257,\n 'ìï': 5846,\n 'predict': 3880,\n 'yetund': 5792,\n 'sent': 4400,\n 'bother': 615,\n 'involv': 2530,\n 'impos': 2450,\n 'apologis': 240,\n 'del': 1250,\n 'bak': 404,\n 'sum': 4883,\n 'lucyxx': 2967,\n 'answer': 211,\n 'sunshin': 4896,\n 'quiz': 4021,\n 'top': 5202,\n 'soni': 4653,\n 'dvd': 1484,\n 'player': 3780,\n 'countri': 1091,\n 'algarv': 140,\n 'ansr': 210,\n 'sp': 4680,\n 'tyron': 5312,\n 'laid': 2768,\n 'dog': 1389,\n 'direct': 1340,\n 'join': 2632,\n 'largest': 2790,\n 'bt': 689,\n 'txting': 5304,\n 'gravel': 2111,\n 'nt': 3448,\n 'haf': 2171,\n 'msn': 3252,\n 'yiju': 5796,\n 'befor': 481,\n 'activ': 54,\n 'chat': 854,\n 'svc': 4924,\n 'hardcor': 2207,\n 'age': 101,\n 'yr': 5818,\n 'lazi': 2808,\n 'type': 5310,\n 'lect': 2818,\n 'pouch': 3853,\n 'sir': 4537,\n 'mail': 3012,\n 'swt': 4950,\n 'tire': 5144,\n 'littl': 2885,\n 'lovabl': 2942,\n 'person': 3720,\n 'coz': 1101,\n 'somtim': 4649,\n 'occupi': 3483,\n 'biggest': 531,\n 'heart': 2244,\n 'gud': 2146,\n 'open': 3544,\n 'ya': 5761,\n 'dot': 1417,\n 'what': 5601,\n 'staff': 4757,\n 'randi': 4049,\n 'sexi': 4419,\n 'femal': 1764,\n 'local': 2896,\n 'luv': 2975,\n 'netcollex': 3359,\n 'ltd': 2958,\n 'begin': 485,\n 'qatar': 4004,\n 'pray': 3876,\n 'hard': 2206,\n 'delet': 1252,\n 'sindu': 4530,\n 'birla': 541,\n 'soft': 4624,\n 'wine': 5643,\n 'flow': 1840,\n 'thk': 5098,\n 'plaza': 3783,\n 'typic': 5311,\n 'everywher': 1645,\n 'dirt': 1343,\n 'floor': 1837,\n 'window': 5642,\n 'shirt': 4465,\n 'sometim': 4642,\n 'mouth': 3241,\n 'dream': 1438,\n 'without': 5659,\n 'chore': 910,\n 'joy': 2643,\n 'tv': 5290,\n 'exist': 1673,\n 'hail': 2175,\n 'mist': 3173,\n 'becom': 470,\n 'aaooooright': 3,\n 'leav': 2817,\n 'hous': 2350,\n 'interview': 2517,\n 'boy': 625,\n 'annonc': 203,\n 'arrang': 288,\n 'keep': 2694,\n 'safe': 4282,\n 'envi': 1594,\n 'everyon': 1640,\n 'parent': 3651,\n 'hand': 2189,\n 'excit': 1665,\n 'spend': 4702,\n 'bootydeli': 606,\n 'bangbab': 418,\n 'order': 3563,\n 'content': 1053,\n 'goto': 2090,\n 'bangb': 417,\n 'menu': 3115,\n 'cultur': 1156,\n 'modul': 3204,\n 'avoid': 370,\n 'missunderstd': 3172,\n 'wit': 5655,\n 'belov': 498,\n 'escap': 1613,\n 'fanci': 1724,\n 'bridg': 653,\n 'lager': 2767,\n 'complet': 1015,\n 'form': 1878,\n 'clark': 933,\n 'also': 160,\n 'utter': 5413,\n 'wast': 5538,\n 'axi': 380,\n 'bank': 420,\n 'hmmm': 2299,\n 'hop': 2332,\n 'muz': 3287,\n 'discuss': 1356,\n 'liao': 2841,\n 'bloodi': 571,\n 'hell': 2256,\n 'cant': 773,\n 'believ': 491,\n 'surnam': 4915,\n 'mr': 3245,\n 'ill': 2434,\n 'clue': 957,\n 'spanish': 4686,\n 'bath': 442,\n 'carlo': 792,\n 'mall': 3023,\n 'stay': 4777,\n 'til': 5137,\n 'smoke': 4600,\n 'worth': 5705,\n 'doesnt': 1387,\n 'log': 2900,\n 'spoke': 4725,\n 'maneesha': 3032,\n 'satisfi': 4320,\n 'experi': 1680,\n 'toll': 5180,\n 'lift': 2853,\n 'especi': 1617,\n 'approach': 252,\n 'studi': 4846,\n 'trust': 5269,\n 'guy': 2160,\n 'handsom': 2192,\n 'toward': 5221,\n 'net': 3358,\n 'mummi': 3272,\n 'boytoy': 628,\n 'awesom': 375,\n 'minut': 3157,\n 'freephon': 1910,\n 'xma': 5746,\n 'radio': 4029,\n 'ju': 2650,\n 'si': 4505,\n 'uniqu': 5359,\n 'august': 349,\n 'leagu': 2814,\n 'touch': 5217,\n 'deal': 1219,\n 'cours': 1095,\n 'howev': 2357,\n 'suggest': 4879,\n 'abl': 15,\n 'or': 3558,\n 'everi': 1636,\n 'stool': 4810,\n 'settl': 4414,\n 'wishin': 5652,\n 'mrng': 3247,\n 'hav': 2222,\n 'stori': 4816,\n 'hamster': 2188,\n 'dead': 1218,\n 'tmr': 5158,\n 'orchard': 3562,\n 'mrt': 3248,\n 'kate': 2686,\n 'babyjontet': 390,\n 'found': 1885,\n 'enc': 1564,\n 'buck': 693,\n 'darlin': 1204,\n 'ive': 2560,\n 'colleg': 987,\n 'refil': 4117,\n 'success': 4866,\n 'inr': 2496,\n 'decim': 1230,\n 'keralacircl': 2701,\n 'prepaid': 3885,\n 'balanc': 407,\n 'rs': 4250,\n 'transact': 5235,\n 'id': 2413,\n 'kr': 2752,\n 'goodmorn': 2074,\n 'sleep': 4565,\n 'ga': 1963,\n 'alter': 161,\n 'dat': 1208,\n 'ericsson': 1601,\n 'oso': 3577,\n 'oredi': 3565,\n 'straight': 4819,\n 'dogg': 1391,\n 'connect': 1042,\n 'refund': 4122,\n 'bill': 533,\n 'shoot': 4477,\n 'big': 529,\n 'readi': 4077,\n 'bruv': 684,\n 'break': 644,\n 'semest': 4390,\n 'noe': 3406,\n 'leh': 2825,\n 'sound': 4671,\n 'head': 2232,\n 'slept': 4570,\n 'past': 3670,\n 'easi': 1495,\n 'sen': 4393,\n 'exam': 1661,\n 'march': 3043,\n 'atm': 333,\n 'regist': 4126,\n 'os': 3575,\n 'ubandu': 5314,\n 'instal': 2503,\n 'disk': 1358,\n 'import': 2448,\n 'file': 1784,\n 'system': 4959,\n 'repair': 4154,\n 'shop': 4478,\n 'romant': 4234,\n 'nite': 3397,\n 'sceneri': 4337,\n 'appreci': 251,\n 'partner': 3661,\n 'career': 788,\n 'flyng': 1846,\n 'horo': 2338,\n 'star': 4766,\n 'sign': 4513,\n 'ari': 276,\n 'compani': 1005,\n 'elama': 1539,\n 'po': 3800,\n 'mudyadhu': 3262,\n 'strict': 4829,\n 'teacher': 5010,\n 'bcoz': 458,\n 'teach': 5009,\n 'conduct': 1031,\n 'gandhipuram': 1972,\n 'walk': 5515,\n 'cross': 1130,\n 'road': 4223,\n 'side': 4510,\n 'street': 4824,\n 'rubber': 4256,\n 'batteri': 446,\n 'die': 1318,\n 'flirt': 1834,\n 'sam': 4296,\n 'recd': 4092,\n 'thirtyeight': 5096,\n 'penc': 3698,\n 'print': 3916,\n 'upstair': 5388,\n 'closer': 951,\n 'wil': 5633,\n 'theori': 5080,\n 'argument': 275,\n 'lose': 2927,\n 'argu': 274,\n 'kick': 2712,\n 'secret': 4368,\n 'admir': 69,\n 'reveal': 4193,\n 'tomarrow': 5182,\n 'laptop': 2785,\n 'case': 800,\n 'pleassssssseeeee': 3786,\n 'tel': 5021,\n 'avent': 366,\n 'sportsx': 4733,\n 'shine': 4462,\n 'meant': 3086,\n 'although': 162,\n 'told': 5177,\n 'baig': 402,\n 'face': 1700,\n 'fr': 1892,\n 'thanx': 5066,\n 'everyth': 1642,\n 'commerci': 1000,\n 'websit': 5559,\n 'slipper': 4575,\n 'kalli': 2675,\n 'bat': 439,\n 'inning': 2491,\n 'didnt': 1315,\n 'goodnight': 2075,\n 'fix': 1814,\n 'wake': 5512,\n 'dearli': 1223,\n 'congratul': 1041,\n 'cd': 815,\n 'voucher': 5496,\n 'music': 3280,\n 'tnc': 5161,\n 'ranjith': 4054,\n 'cal': 744,\n 'drpd': 1452,\n 'deeraj': 1241,\n 'deepak': 1238,\n 'hold': 2310,\n 'bcum': 459,\n 'angri': 196,\n 'wid': 5628,\n 'dnt': 1377,\n 'childish': 888,\n 'true': 5265,\n 'deep': 1237,\n 'affect': 86,\n 'care': 786,\n 'kettoda': 2703,\n 'manda': 3028,\n 'up': 5380,\n 'ship': 4464,\n 'usp': 5410,\n 'lag': 2765,\n 'bribe': 652,\n 'nipost': 3395,\n 'lem': 2828,\n 'necessarili': 3340,\n 'expect': 1678,\n 'headin': 2234,\n ...}"
     },
     "execution_count": 519,
     "metadata": {},
     "output_type": "execute_result"
    }
   ],
   "source": [
    "cv = TfidfVectorizer()\n",
    "X = cv.fit_transform(df['clean_text']).toarray()\n",
    "cv.vocabulary_"
   ],
   "metadata": {
    "collapsed": false,
    "pycharm": {
     "name": "#%%\n"
    }
   }
  },
  {
   "cell_type": "code",
   "execution_count": 520,
   "outputs": [
    {
     "data": {
      "text/plain": "array(['ham', 'spam'], dtype=object)"
     },
     "execution_count": 520,
     "metadata": {},
     "output_type": "execute_result"
    }
   ],
   "source": [
    "label_encoder = LabelEncoder().fit(df['target'])\n",
    "y = label_encoder.transform(df['target'])\n",
    "label_encoder.classes_"
   ],
   "metadata": {
    "collapsed": false,
    "pycharm": {
     "name": "#%%\n"
    }
   }
  },
  {
   "cell_type": "code",
   "execution_count": 521,
   "outputs": [],
   "source": [
    "X_train, X_test, y_train, y_test = train_test_split(X, y, random_state=42, train_size=0.3)"
   ],
   "metadata": {
    "collapsed": false,
    "pycharm": {
     "name": "#%%\n"
    }
   }
  },
  {
   "cell_type": "code",
   "execution_count": 522,
   "outputs": [
    {
     "data": {
      "text/plain": "              precision    recall  f1-score      support\n0              0.917900  1.000000  0.957193  3164.000000\n1              1.000000  0.366890  0.536825   447.000000\naccuracy       0.921628  0.921628  0.921628     0.921628\nmacro avg      0.958950  0.683445  0.747009  3611.000000\nweighted avg   0.928063  0.921628  0.905156  3611.000000",
      "text/html": "<div>\n<style scoped>\n    .dataframe tbody tr th:only-of-type {\n        vertical-align: middle;\n    }\n\n    .dataframe tbody tr th {\n        vertical-align: top;\n    }\n\n    .dataframe thead th {\n        text-align: right;\n    }\n</style>\n<table border=\"1\" class=\"dataframe\">\n  <thead>\n    <tr style=\"text-align: right;\">\n      <th></th>\n      <th>precision</th>\n      <th>recall</th>\n      <th>f1-score</th>\n      <th>support</th>\n    </tr>\n  </thead>\n  <tbody>\n    <tr>\n      <th>0</th>\n      <td>0.917900</td>\n      <td>1.000000</td>\n      <td>0.957193</td>\n      <td>3164.000000</td>\n    </tr>\n    <tr>\n      <th>1</th>\n      <td>1.000000</td>\n      <td>0.366890</td>\n      <td>0.536825</td>\n      <td>447.000000</td>\n    </tr>\n    <tr>\n      <th>accuracy</th>\n      <td>0.921628</td>\n      <td>0.921628</td>\n      <td>0.921628</td>\n      <td>0.921628</td>\n    </tr>\n    <tr>\n      <th>macro avg</th>\n      <td>0.958950</td>\n      <td>0.683445</td>\n      <td>0.747009</td>\n      <td>3611.000000</td>\n    </tr>\n    <tr>\n      <th>weighted avg</th>\n      <td>0.928063</td>\n      <td>0.921628</td>\n      <td>0.905156</td>\n      <td>3611.000000</td>\n    </tr>\n  </tbody>\n</table>\n</div>"
     },
     "execution_count": 522,
     "metadata": {},
     "output_type": "execute_result"
    }
   ],
   "source": [
    "clf = MultinomialNB().fit(X_train, y_train)\n",
    "y_pred = clf.predict(X_test)\n",
    "pd.DataFrame(classification_report(y_test, y_pred, output_dict=True)).T"
   ],
   "metadata": {
    "collapsed": false,
    "pycharm": {
     "name": "#%%\n"
    }
   }
  },
  {
   "cell_type": "code",
   "execution_count": 523,
   "outputs": [
    {
     "data": {
      "text/plain": "              precision    recall  f1-score      support\n0              0.921014  0.998736  0.958302  3164.000000\n1              0.977778  0.393736  0.561404   447.000000\naccuracy       0.923844  0.923844  0.923844     0.923844\nmacro avg      0.949396  0.696236  0.759853  3611.000000\nweighted avg   0.928041  0.923844  0.909170  3611.000000",
      "text/html": "<div>\n<style scoped>\n    .dataframe tbody tr th:only-of-type {\n        vertical-align: middle;\n    }\n\n    .dataframe tbody tr th {\n        vertical-align: top;\n    }\n\n    .dataframe thead th {\n        text-align: right;\n    }\n</style>\n<table border=\"1\" class=\"dataframe\">\n  <thead>\n    <tr style=\"text-align: right;\">\n      <th></th>\n      <th>precision</th>\n      <th>recall</th>\n      <th>f1-score</th>\n      <th>support</th>\n    </tr>\n  </thead>\n  <tbody>\n    <tr>\n      <th>0</th>\n      <td>0.921014</td>\n      <td>0.998736</td>\n      <td>0.958302</td>\n      <td>3164.000000</td>\n    </tr>\n    <tr>\n      <th>1</th>\n      <td>0.977778</td>\n      <td>0.393736</td>\n      <td>0.561404</td>\n      <td>447.000000</td>\n    </tr>\n    <tr>\n      <th>accuracy</th>\n      <td>0.923844</td>\n      <td>0.923844</td>\n      <td>0.923844</td>\n      <td>0.923844</td>\n    </tr>\n    <tr>\n      <th>macro avg</th>\n      <td>0.949396</td>\n      <td>0.696236</td>\n      <td>0.759853</td>\n      <td>3611.000000</td>\n    </tr>\n    <tr>\n      <th>weighted avg</th>\n      <td>0.928041</td>\n      <td>0.923844</td>\n      <td>0.909170</td>\n      <td>3611.000000</td>\n    </tr>\n  </tbody>\n</table>\n</div>"
     },
     "execution_count": 523,
     "metadata": {},
     "output_type": "execute_result"
    }
   ],
   "source": [
    "clf = LogisticRegression().fit(X_train, y_train)\n",
    "y_pred = clf.predict(X_test)\n",
    "pd.DataFrame(classification_report(y_test, y_pred, output_dict=True)).T"
   ],
   "metadata": {
    "collapsed": false,
    "pycharm": {
     "name": "#%%\n"
    }
   }
  },
  {
   "cell_type": "code",
   "execution_count": 523,
   "outputs": [],
   "source": [],
   "metadata": {
    "collapsed": false,
    "pycharm": {
     "name": "#%%\n"
    }
   }
  }
 ],
 "metadata": {
  "kernelspec": {
   "display_name": "Python 3 (ipykernel)",
   "language": "python",
   "name": "python3"
  },
  "language_info": {
   "codemirror_mode": {
    "name": "ipython",
    "version": 3
   },
   "file_extension": ".py",
   "mimetype": "text/x-python",
   "name": "python",
   "nbconvert_exporter": "python",
   "pygments_lexer": "ipython3",
   "version": "3.9.10"
  }
 },
 "nbformat": 4,
 "nbformat_minor": 5
}